{
 "cells": [
  {
   "cell_type": "markdown",
   "id": "e5a17c4e",
   "metadata": {},
   "source": [
    " # Regressão usando Scikit Learn\n",
    "\n",
    "    Curso - Let's Data - Jornada Cientista da Dados"
   ]
  },
  {
   "cell_type": "markdown",
   "id": "6825cbd3",
   "metadata": {},
   "source": [
    "### Motivação \n",
    "\n",
    "A ideia desse projeto é iniciar no mundo de Machine Learn, com separação de bases, avaliação de métricas, uso de cross validation, e ciração e comparação de modelos preditivos utilizando a bilioteca Scikit Learn. "
   ]
  },
  {
   "cell_type": "markdown",
   "id": "61168d88",
   "metadata": {},
   "source": [
    "### Objeto de Estudo \n",
    "\n",
    "Vamos trabalhar com informações de planos de saúde! A área médica e de seguradoras de saúde utiliza muito as técnicas de ciência de dados e machine learning para avaliar risco dos seus segurados/pacientes. Vamos utilizar uma base de dados do livro \"Machine Learning with R\" de Brett Lantz, disponível aqui.\n",
    "\n",
    "O problema que queremos solucionar é prever os gastos com planos de saúde de acordo com as características do segurado. Poderia ser um problema interessante tanto para os segurados (para saber quais características tornam seu plano mais caro ou barato), quanto para seguradoras (para que mantenha suas contas equilibradas e saiba os segurados que devem ter um preço mais alto/baixo)."
   ]
  },
  {
   "cell_type": "code",
   "execution_count": 1,
   "id": "72d3c7db",
   "metadata": {},
   "outputs": [],
   "source": [
    "# Importando as bibliotecas para criação dos gráficos e leitura dos dados \n",
    "\n",
    "import pandas as pd \n",
    "import seaborn as sns \n",
    "from matplotlib import pyplot as plt \n",
    "import os \n",
    "import numpy as np \n",
    "\n",
    "# Configurando o pandas para mostrar todas as linhas e colunas \n",
    "pd.set_option('display.max_rows', None)\n",
    "pd.set_option('display.max_columns', None)\n",
    "\n",
    "#Configurando pandas para não mostrar nootação científica para números   \n",
    "pd.set_option('display.float_format', lambda x: '%.2f' % x)"
   ]
  },
  {
   "cell_type": "code",
   "execution_count": 2,
   "id": "4421ce4d",
   "metadata": {},
   "outputs": [
    {
     "data": {
      "text/html": [
       "<div>\n",
       "<style scoped>\n",
       "    .dataframe tbody tr th:only-of-type {\n",
       "        vertical-align: middle;\n",
       "    }\n",
       "\n",
       "    .dataframe tbody tr th {\n",
       "        vertical-align: top;\n",
       "    }\n",
       "\n",
       "    .dataframe thead th {\n",
       "        text-align: right;\n",
       "    }\n",
       "</style>\n",
       "<table border=\"1\" class=\"dataframe\">\n",
       "  <thead>\n",
       "    <tr style=\"text-align: right;\">\n",
       "      <th></th>\n",
       "      <th>age</th>\n",
       "      <th>sex</th>\n",
       "      <th>bmi</th>\n",
       "      <th>children</th>\n",
       "      <th>smoker</th>\n",
       "      <th>region</th>\n",
       "      <th>charges</th>\n",
       "    </tr>\n",
       "  </thead>\n",
       "  <tbody>\n",
       "    <tr>\n",
       "      <th>0</th>\n",
       "      <td>19</td>\n",
       "      <td>female</td>\n",
       "      <td>27.90</td>\n",
       "      <td>0</td>\n",
       "      <td>yes</td>\n",
       "      <td>southwest</td>\n",
       "      <td>16884.92</td>\n",
       "    </tr>\n",
       "    <tr>\n",
       "      <th>1</th>\n",
       "      <td>18</td>\n",
       "      <td>male</td>\n",
       "      <td>33.77</td>\n",
       "      <td>1</td>\n",
       "      <td>no</td>\n",
       "      <td>southeast</td>\n",
       "      <td>1725.55</td>\n",
       "    </tr>\n",
       "    <tr>\n",
       "      <th>2</th>\n",
       "      <td>28</td>\n",
       "      <td>male</td>\n",
       "      <td>33.00</td>\n",
       "      <td>3</td>\n",
       "      <td>no</td>\n",
       "      <td>southeast</td>\n",
       "      <td>4449.46</td>\n",
       "    </tr>\n",
       "    <tr>\n",
       "      <th>3</th>\n",
       "      <td>33</td>\n",
       "      <td>male</td>\n",
       "      <td>22.70</td>\n",
       "      <td>0</td>\n",
       "      <td>no</td>\n",
       "      <td>northwest</td>\n",
       "      <td>21984.47</td>\n",
       "    </tr>\n",
       "    <tr>\n",
       "      <th>4</th>\n",
       "      <td>32</td>\n",
       "      <td>male</td>\n",
       "      <td>28.88</td>\n",
       "      <td>0</td>\n",
       "      <td>no</td>\n",
       "      <td>northwest</td>\n",
       "      <td>3866.86</td>\n",
       "    </tr>\n",
       "  </tbody>\n",
       "</table>\n",
       "</div>"
      ],
      "text/plain": [
       "   age     sex   bmi  children smoker     region  charges\n",
       "0   19  female 27.90         0    yes  southwest 16884.92\n",
       "1   18    male 33.77         1     no  southeast  1725.55\n",
       "2   28    male 33.00         3     no  southeast  4449.46\n",
       "3   33    male 22.70         0     no  northwest 21984.47\n",
       "4   32    male 28.88         0     no  northwest  3866.86"
      ]
     },
     "execution_count": 2,
     "metadata": {},
     "output_type": "execute_result"
    }
   ],
   "source": [
    "# Fazendo a leitura do arquivo. Já vou criar uma variável desse df \n",
    "\n",
    "df_seguro = pd.read_csv('C:\\insurance.csv')\n",
    "\n",
    "df_seguro.head()"
   ]
  },
  {
   "cell_type": "code",
   "execution_count": 3,
   "id": "77c1c7af",
   "metadata": {},
   "outputs": [
    {
     "data": {
      "text/plain": [
       "age           int64\n",
       "sex          object\n",
       "bmi         float64\n",
       "children      int64\n",
       "smoker       object\n",
       "region       object\n",
       "charges     float64\n",
       "dtype: object"
      ]
     },
     "execution_count": 3,
     "metadata": {},
     "output_type": "execute_result"
    }
   ],
   "source": [
    "# Avaliando os tipos\n",
    "\n",
    "df_seguro.dtypes"
   ]
  },
  {
   "cell_type": "code",
   "execution_count": 4,
   "id": "76264284",
   "metadata": {},
   "outputs": [
    {
     "name": "stdout",
     "output_type": "stream",
     "text": [
      "<class 'pandas.core.frame.DataFrame'>\n",
      "RangeIndex: 1338 entries, 0 to 1337\n",
      "Data columns (total 7 columns):\n",
      " #   Column    Non-Null Count  Dtype  \n",
      "---  ------    --------------  -----  \n",
      " 0   age       1338 non-null   int64  \n",
      " 1   sex       1338 non-null   object \n",
      " 2   bmi       1338 non-null   float64\n",
      " 3   children  1338 non-null   int64  \n",
      " 4   smoker    1338 non-null   object \n",
      " 5   region    1338 non-null   object \n",
      " 6   charges   1338 non-null   float64\n",
      "dtypes: float64(2), int64(2), object(3)\n",
      "memory usage: 73.3+ KB\n"
     ]
    }
   ],
   "source": [
    "# Avaliando o df \n",
    "\n",
    "df_seguro.info()"
   ]
  },
  {
   "cell_type": "markdown",
   "id": "f2573281",
   "metadata": {},
   "source": [
    "### Começando com estatística descritiva \n",
    "\n",
    "Conhecer bem as medidas estatísticas, de tendência central, dispersão, separatrizes, distribuições, é essencial para conhecermos melhor os dados em que estamos trabalhando. Qual a distribuição da idade? Índice de massa corporal? E a variável target?"
   ]
  },
  {
   "cell_type": "code",
   "execution_count": 5,
   "id": "0e30f97f",
   "metadata": {},
   "outputs": [
    {
     "data": {
      "text/html": [
       "<div>\n",
       "<style scoped>\n",
       "    .dataframe tbody tr th:only-of-type {\n",
       "        vertical-align: middle;\n",
       "    }\n",
       "\n",
       "    .dataframe tbody tr th {\n",
       "        vertical-align: top;\n",
       "    }\n",
       "\n",
       "    .dataframe thead th {\n",
       "        text-align: right;\n",
       "    }\n",
       "</style>\n",
       "<table border=\"1\" class=\"dataframe\">\n",
       "  <thead>\n",
       "    <tr style=\"text-align: right;\">\n",
       "      <th></th>\n",
       "      <th>age</th>\n",
       "      <th>bmi</th>\n",
       "      <th>children</th>\n",
       "      <th>charges</th>\n",
       "    </tr>\n",
       "  </thead>\n",
       "  <tbody>\n",
       "    <tr>\n",
       "      <th>count</th>\n",
       "      <td>1338.00</td>\n",
       "      <td>1338.00</td>\n",
       "      <td>1338.00</td>\n",
       "      <td>1338.00</td>\n",
       "    </tr>\n",
       "    <tr>\n",
       "      <th>mean</th>\n",
       "      <td>39.21</td>\n",
       "      <td>30.66</td>\n",
       "      <td>1.09</td>\n",
       "      <td>13270.42</td>\n",
       "    </tr>\n",
       "    <tr>\n",
       "      <th>std</th>\n",
       "      <td>14.05</td>\n",
       "      <td>6.10</td>\n",
       "      <td>1.21</td>\n",
       "      <td>12110.01</td>\n",
       "    </tr>\n",
       "    <tr>\n",
       "      <th>min</th>\n",
       "      <td>18.00</td>\n",
       "      <td>15.96</td>\n",
       "      <td>0.00</td>\n",
       "      <td>1121.87</td>\n",
       "    </tr>\n",
       "    <tr>\n",
       "      <th>25%</th>\n",
       "      <td>27.00</td>\n",
       "      <td>26.30</td>\n",
       "      <td>0.00</td>\n",
       "      <td>4740.29</td>\n",
       "    </tr>\n",
       "    <tr>\n",
       "      <th>50%</th>\n",
       "      <td>39.00</td>\n",
       "      <td>30.40</td>\n",
       "      <td>1.00</td>\n",
       "      <td>9382.03</td>\n",
       "    </tr>\n",
       "    <tr>\n",
       "      <th>75%</th>\n",
       "      <td>51.00</td>\n",
       "      <td>34.69</td>\n",
       "      <td>2.00</td>\n",
       "      <td>16639.91</td>\n",
       "    </tr>\n",
       "    <tr>\n",
       "      <th>max</th>\n",
       "      <td>64.00</td>\n",
       "      <td>53.13</td>\n",
       "      <td>5.00</td>\n",
       "      <td>63770.43</td>\n",
       "    </tr>\n",
       "  </tbody>\n",
       "</table>\n",
       "</div>"
      ],
      "text/plain": [
       "          age     bmi  children  charges\n",
       "count 1338.00 1338.00   1338.00  1338.00\n",
       "mean    39.21   30.66      1.09 13270.42\n",
       "std     14.05    6.10      1.21 12110.01\n",
       "min     18.00   15.96      0.00  1121.87\n",
       "25%     27.00   26.30      0.00  4740.29\n",
       "50%     39.00   30.40      1.00  9382.03\n",
       "75%     51.00   34.69      2.00 16639.91\n",
       "max     64.00   53.13      5.00 63770.43"
      ]
     },
     "execution_count": 5,
     "metadata": {},
     "output_type": "execute_result"
    }
   ],
   "source": [
    "# Avaliando as informações de tendência central \n",
    "\n",
    "df_seguro.describe()"
   ]
  },
  {
   "cell_type": "code",
   "execution_count": 6,
   "id": "f7a5c4fc",
   "metadata": {},
   "outputs": [
    {
     "data": {
      "text/plain": [
       "<AxesSubplot:xlabel='age', ylabel='Count'>"
      ]
     },
     "execution_count": 6,
     "metadata": {},
     "output_type": "execute_result"
    },
    {
     "data": {
      "image/png": "[encoded data removed]",
      "text/plain": [
       "<Figure size 432x288 with 1 Axes>"
      ]
     },
     "metadata": {},
     "output_type": "display_data"
    }
   ],
   "source": [
    "# Analizando as distribuições das idades \n",
    "\n",
    "sns.set_style('darkgrid')\n",
    "plt.tight_layout()\n",
    "\n",
    "sns.histplot(data=df_seguro, x='age')"
   ]
  },
  {
   "cell_type": "code",
   "execution_count": 7,
   "id": "35a77118",
   "metadata": {},
   "outputs": [
    {
     "data": {
      "text/plain": [
       "<AxesSubplot:xlabel='bmi', ylabel='Count'>"
      ]
     },
     "execution_count": 7,
     "metadata": {},
     "output_type": "execute_result"
    },
    {
     "data": {
      "image/png": "[encoded data removed]",
      "text/plain": [
       "<Figure size 432x288 with 1 Axes>"
      ]
     },
     "metadata": {},
     "output_type": "display_data"
    }
   ],
   "source": [
    "# Analisando as distribuições de índice de massa corporal \n",
    "\n",
    "sns.set_style('darkgrid')\n",
    "plt.tight_layout()\n",
    "\n",
    "sns.histplot(data=df_seguro, x='bmi')"
   ]
  },
  {
   "cell_type": "code",
   "execution_count": 8,
   "id": "49dbecd3",
   "metadata": {},
   "outputs": [
    {
     "data": {
      "text/plain": [
       "<AxesSubplot:xlabel='children', ylabel='count'>"
      ]
     },
     "execution_count": 8,
     "metadata": {},
     "output_type": "execute_result"
    },
    {
     "data": {
      "image/png": "[encoded data removed]",
      "text/plain": [
       "<Figure size 432x288 with 1 Axes>"
      ]
     },
     "metadata": {},
     "output_type": "display_data"
    }
   ],
   "source": [
    "# Analisando a quantidade de crianças \n",
    "\n",
    "sns.set_style('darkgrid')\n",
    "plt.tight_layout()\n",
    "\n",
    "\n",
    "sns.countplot(data= df_seguro, x='children')"
   ]
  },
  {
   "cell_type": "code",
   "execution_count": 9,
   "id": "c68f1f60",
   "metadata": {},
   "outputs": [
    {
     "data": {
      "text/plain": [
       "<AxesSubplot:xlabel='charges', ylabel='Count'>"
      ]
     },
     "execution_count": 9,
     "metadata": {},
     "output_type": "execute_result"
    },
    {
     "data": {
      "image/png": "[encoded data removed]",
      "text/plain": [
       "<Figure size 432x288 with 1 Axes>"
      ]
     },
     "metadata": {},
     "output_type": "display_data"
    }
   ],
   "source": [
    "# Analisando a variável target: valor do seguro \n",
    "\n",
    "sns.histplot(data= df_seguro['charges'])"
   ]
  },
  {
   "cell_type": "markdown",
   "id": "e7e27e9a",
   "metadata": {},
   "source": [
    "### Relação entre as features e a variável target \n",
    "\n",
    "Uma análise interessante é avaliar relações entre as variáveis preditoras com a target. Vamos analisar as dispersões das variáveis preditoras com o valor do seguro."
   ]
  },
  {
   "cell_type": "code",
   "execution_count": 10,
   "id": "f493e762",
   "metadata": {},
   "outputs": [
    {
     "data": {
      "text/plain": [
       "<seaborn.axisgrid.PairGrid at 0x20162ffcd00>"
      ]
     },
     "execution_count": 10,
     "metadata": {},
     "output_type": "execute_result"
    },
    {
     "data": {
      "image/png": "[encoded data removed]",
      "text/plain": [
       "<Figure size 720x720 with 20 Axes>"
      ]
     },
     "metadata": {},
     "output_type": "display_data"
    }
   ],
   "source": [
    "# O Pairplot faz gráficos dispersão para os pares de variáveis \n",
    "\n",
    "# Na diagonal principal ele mostra o histograma \n",
    "\n",
    "sns.pairplot(data=df_seguro)"
   ]
  },
  {
   "cell_type": "markdown",
   "id": "17a3bf7b",
   "metadata": {},
   "source": [
    "Fica evidente uma correlação positiva entre idade e as cobranças de planos de saúde (age x charges). Provavelmente será uma variável de importância no modelo preditivo"
   ]
  },
  {
   "cell_type": "markdown",
   "id": "5b3dd7dd",
   "metadata": {},
   "source": [
    "### Codificação de Variáveis Categóricas \n",
    "\n",
    "Lembrando que os modelos de machine learning não sabem o que são categorias em sua maioria, devemos, portanto, \n",
    "codificar as variáveis de sexo, fumante e localização.\n",
    "(Podemos utilizar o get_dummies do pandas, ou o OneHotEncoder do scikit learn)"
   ]
  },
  {
   "cell_type": "code",
   "execution_count": 11,
   "id": "fc8f7ac3",
   "metadata": {},
   "outputs": [
    {
     "data": {
      "text/html": [
       "<div>\n",
       "<style scoped>\n",
       "    .dataframe tbody tr th:only-of-type {\n",
       "        vertical-align: middle;\n",
       "    }\n",
       "\n",
       "    .dataframe tbody tr th {\n",
       "        vertical-align: top;\n",
       "    }\n",
       "\n",
       "    .dataframe thead th {\n",
       "        text-align: right;\n",
       "    }\n",
       "</style>\n",
       "<table border=\"1\" class=\"dataframe\">\n",
       "  <thead>\n",
       "    <tr style=\"text-align: right;\">\n",
       "      <th></th>\n",
       "      <th>age</th>\n",
       "      <th>sex</th>\n",
       "      <th>bmi</th>\n",
       "      <th>children</th>\n",
       "      <th>smoker</th>\n",
       "      <th>region</th>\n",
       "      <th>charges</th>\n",
       "      <th>famale</th>\n",
       "    </tr>\n",
       "  </thead>\n",
       "  <tbody>\n",
       "    <tr>\n",
       "      <th>0</th>\n",
       "      <td>19</td>\n",
       "      <td>female</td>\n",
       "      <td>27.90</td>\n",
       "      <td>0</td>\n",
       "      <td>1</td>\n",
       "      <td>southwest</td>\n",
       "      <td>16884.92</td>\n",
       "      <td>1</td>\n",
       "    </tr>\n",
       "    <tr>\n",
       "      <th>1</th>\n",
       "      <td>18</td>\n",
       "      <td>male</td>\n",
       "      <td>33.77</td>\n",
       "      <td>1</td>\n",
       "      <td>0</td>\n",
       "      <td>southeast</td>\n",
       "      <td>1725.55</td>\n",
       "      <td>0</td>\n",
       "    </tr>\n",
       "    <tr>\n",
       "      <th>2</th>\n",
       "      <td>28</td>\n",
       "      <td>male</td>\n",
       "      <td>33.00</td>\n",
       "      <td>3</td>\n",
       "      <td>0</td>\n",
       "      <td>southeast</td>\n",
       "      <td>4449.46</td>\n",
       "      <td>0</td>\n",
       "    </tr>\n",
       "    <tr>\n",
       "      <th>3</th>\n",
       "      <td>33</td>\n",
       "      <td>male</td>\n",
       "      <td>22.70</td>\n",
       "      <td>0</td>\n",
       "      <td>0</td>\n",
       "      <td>northwest</td>\n",
       "      <td>21984.47</td>\n",
       "      <td>0</td>\n",
       "    </tr>\n",
       "    <tr>\n",
       "      <th>4</th>\n",
       "      <td>32</td>\n",
       "      <td>male</td>\n",
       "      <td>28.88</td>\n",
       "      <td>0</td>\n",
       "      <td>0</td>\n",
       "      <td>northwest</td>\n",
       "      <td>3866.86</td>\n",
       "      <td>0</td>\n",
       "    </tr>\n",
       "  </tbody>\n",
       "</table>\n",
       "</div>"
      ],
      "text/plain": [
       "   age     sex   bmi  children  smoker     region  charges  famale\n",
       "0   19  female 27.90         0       1  southwest 16884.92       1\n",
       "1   18    male 33.77         1       0  southeast  1725.55       0\n",
       "2   28    male 33.00         3       0  southeast  4449.46       0\n",
       "3   33    male 22.70         0       0  northwest 21984.47       0\n",
       "4   32    male 28.88         0       0  northwest  3866.86       0"
      ]
     },
     "execution_count": 11,
     "metadata": {},
     "output_type": "execute_result"
    }
   ],
   "source": [
    "# Vamos utilizar o One hot encoder, pois temos varáveis nominais \n",
    "\n",
    "# Para variáveis somente com duas classes (sex e smoker), podemos fazer um mapeamento direto\n",
    "\n",
    "df_seguro['famale'] = df_seguro['sex'].map({'female': 1, 'male': 0})\n",
    "\n",
    "df_seguro['smoker'] = df_seguro['smoker'].map({'yes': 1, 'no': 0})\n",
    "\n",
    "df_seguro.head()"
   ]
  },
  {
   "cell_type": "code",
   "execution_count": 12,
   "id": "085e6514",
   "metadata": {},
   "outputs": [
    {
     "data": {
      "text/html": [
       "<div>\n",
       "<style scoped>\n",
       "    .dataframe tbody tr th:only-of-type {\n",
       "        vertical-align: middle;\n",
       "    }\n",
       "\n",
       "    .dataframe tbody tr th {\n",
       "        vertical-align: top;\n",
       "    }\n",
       "\n",
       "    .dataframe thead th {\n",
       "        text-align: right;\n",
       "    }\n",
       "</style>\n",
       "<table border=\"1\" class=\"dataframe\">\n",
       "  <thead>\n",
       "    <tr style=\"text-align: right;\">\n",
       "      <th></th>\n",
       "      <th>age</th>\n",
       "      <th>bmi</th>\n",
       "      <th>children</th>\n",
       "      <th>smoker</th>\n",
       "      <th>region</th>\n",
       "      <th>charges</th>\n",
       "      <th>famale</th>\n",
       "    </tr>\n",
       "  </thead>\n",
       "  <tbody>\n",
       "    <tr>\n",
       "      <th>0</th>\n",
       "      <td>19</td>\n",
       "      <td>27.90</td>\n",
       "      <td>0</td>\n",
       "      <td>1</td>\n",
       "      <td>southwest</td>\n",
       "      <td>16884.92</td>\n",
       "      <td>1</td>\n",
       "    </tr>\n",
       "    <tr>\n",
       "      <th>1</th>\n",
       "      <td>18</td>\n",
       "      <td>33.77</td>\n",
       "      <td>1</td>\n",
       "      <td>0</td>\n",
       "      <td>southeast</td>\n",
       "      <td>1725.55</td>\n",
       "      <td>0</td>\n",
       "    </tr>\n",
       "    <tr>\n",
       "      <th>2</th>\n",
       "      <td>28</td>\n",
       "      <td>33.00</td>\n",
       "      <td>3</td>\n",
       "      <td>0</td>\n",
       "      <td>southeast</td>\n",
       "      <td>4449.46</td>\n",
       "      <td>0</td>\n",
       "    </tr>\n",
       "    <tr>\n",
       "      <th>3</th>\n",
       "      <td>33</td>\n",
       "      <td>22.70</td>\n",
       "      <td>0</td>\n",
       "      <td>0</td>\n",
       "      <td>northwest</td>\n",
       "      <td>21984.47</td>\n",
       "      <td>0</td>\n",
       "    </tr>\n",
       "    <tr>\n",
       "      <th>4</th>\n",
       "      <td>32</td>\n",
       "      <td>28.88</td>\n",
       "      <td>0</td>\n",
       "      <td>0</td>\n",
       "      <td>northwest</td>\n",
       "      <td>3866.86</td>\n",
       "      <td>0</td>\n",
       "    </tr>\n",
       "  </tbody>\n",
       "</table>\n",
       "</div>"
      ],
      "text/plain": [
       "   age   bmi  children  smoker     region  charges  famale\n",
       "0   19 27.90         0       1  southwest 16884.92       1\n",
       "1   18 33.77         1       0  southeast  1725.55       0\n",
       "2   28 33.00         3       0  southeast  4449.46       0\n",
       "3   33 22.70         0       0  northwest 21984.47       0\n",
       "4   32 28.88         0       0  northwest  3866.86       0"
      ]
     },
     "execution_count": 12,
     "metadata": {},
     "output_type": "execute_result"
    }
   ],
   "source": [
    "# Como já colocamos a coluna 'famale' no df podemos apagar a coluna 'sex'\n",
    "\n",
    "df_seguro = df_seguro.drop('sex', axis=1)\n",
    "\n",
    "df_seguro.head()"
   ]
  },
  {
   "cell_type": "code",
   "execution_count": 13,
   "id": "98f7aaf5",
   "metadata": {},
   "outputs": [
    {
     "data": {
      "text/plain": [
       "array(['southwest', 'southeast', 'northwest', 'northeast'], dtype=object)"
      ]
     },
     "execution_count": 13,
     "metadata": {},
     "output_type": "execute_result"
    }
   ],
   "source": [
    "#Confirmando as regiões que tem df \n",
    "\n",
    "df_seguro['region'].unique()"
   ]
  },
  {
   "cell_type": "code",
   "execution_count": 14,
   "id": "826a7bdd",
   "metadata": {},
   "outputs": [
    {
     "data": {
      "text/html": [
       "<div>\n",
       "<style scoped>\n",
       "    .dataframe tbody tr th:only-of-type {\n",
       "        vertical-align: middle;\n",
       "    }\n",
       "\n",
       "    .dataframe tbody tr th {\n",
       "        vertical-align: top;\n",
       "    }\n",
       "\n",
       "    .dataframe thead th {\n",
       "        text-align: right;\n",
       "    }\n",
       "</style>\n",
       "<table border=\"1\" class=\"dataframe\">\n",
       "  <thead>\n",
       "    <tr style=\"text-align: right;\">\n",
       "      <th></th>\n",
       "      <th>northwest</th>\n",
       "      <th>southeast</th>\n",
       "      <th>southwest</th>\n",
       "    </tr>\n",
       "  </thead>\n",
       "  <tbody>\n",
       "    <tr>\n",
       "      <th>0</th>\n",
       "      <td>0</td>\n",
       "      <td>0</td>\n",
       "      <td>1</td>\n",
       "    </tr>\n",
       "    <tr>\n",
       "      <th>1</th>\n",
       "      <td>0</td>\n",
       "      <td>1</td>\n",
       "      <td>0</td>\n",
       "    </tr>\n",
       "    <tr>\n",
       "      <th>2</th>\n",
       "      <td>0</td>\n",
       "      <td>1</td>\n",
       "      <td>0</td>\n",
       "    </tr>\n",
       "    <tr>\n",
       "      <th>3</th>\n",
       "      <td>1</td>\n",
       "      <td>0</td>\n",
       "      <td>0</td>\n",
       "    </tr>\n",
       "    <tr>\n",
       "      <th>4</th>\n",
       "      <td>1</td>\n",
       "      <td>0</td>\n",
       "      <td>0</td>\n",
       "    </tr>\n",
       "  </tbody>\n",
       "</table>\n",
       "</div>"
      ],
      "text/plain": [
       "   northwest  southeast  southwest\n",
       "0          0          0          1\n",
       "1          0          1          0\n",
       "2          0          1          0\n",
       "3          1          0          0\n",
       "4          1          0          0"
      ]
     },
     "execution_count": 14,
     "metadata": {},
     "output_type": "execute_result"
    }
   ],
   "source": [
    "# Para as regiões usar OHE. Vou criar uma nova variável\n",
    "\n",
    "colunas_regiao = pd.get_dummies(df_seguro['region'], drop_first=True)\n",
    "\n",
    "colunas_regiao.head()"
   ]
  },
  {
   "cell_type": "code",
   "execution_count": 15,
   "id": "f84943d7",
   "metadata": {},
   "outputs": [
    {
     "data": {
      "text/html": [
       "<div>\n",
       "<style scoped>\n",
       "    .dataframe tbody tr th:only-of-type {\n",
       "        vertical-align: middle;\n",
       "    }\n",
       "\n",
       "    .dataframe tbody tr th {\n",
       "        vertical-align: top;\n",
       "    }\n",
       "\n",
       "    .dataframe thead th {\n",
       "        text-align: right;\n",
       "    }\n",
       "</style>\n",
       "<table border=\"1\" class=\"dataframe\">\n",
       "  <thead>\n",
       "    <tr style=\"text-align: right;\">\n",
       "      <th></th>\n",
       "      <th>age</th>\n",
       "      <th>bmi</th>\n",
       "      <th>children</th>\n",
       "      <th>smoker</th>\n",
       "      <th>region</th>\n",
       "      <th>charges</th>\n",
       "      <th>famale</th>\n",
       "      <th>northwest</th>\n",
       "      <th>southeast</th>\n",
       "      <th>southwest</th>\n",
       "    </tr>\n",
       "  </thead>\n",
       "  <tbody>\n",
       "    <tr>\n",
       "      <th>0</th>\n",
       "      <td>19</td>\n",
       "      <td>27.90</td>\n",
       "      <td>0</td>\n",
       "      <td>1</td>\n",
       "      <td>southwest</td>\n",
       "      <td>16884.92</td>\n",
       "      <td>1</td>\n",
       "      <td>0</td>\n",
       "      <td>0</td>\n",
       "      <td>1</td>\n",
       "    </tr>\n",
       "    <tr>\n",
       "      <th>1</th>\n",
       "      <td>18</td>\n",
       "      <td>33.77</td>\n",
       "      <td>1</td>\n",
       "      <td>0</td>\n",
       "      <td>southeast</td>\n",
       "      <td>1725.55</td>\n",
       "      <td>0</td>\n",
       "      <td>0</td>\n",
       "      <td>1</td>\n",
       "      <td>0</td>\n",
       "    </tr>\n",
       "    <tr>\n",
       "      <th>2</th>\n",
       "      <td>28</td>\n",
       "      <td>33.00</td>\n",
       "      <td>3</td>\n",
       "      <td>0</td>\n",
       "      <td>southeast</td>\n",
       "      <td>4449.46</td>\n",
       "      <td>0</td>\n",
       "      <td>0</td>\n",
       "      <td>1</td>\n",
       "      <td>0</td>\n",
       "    </tr>\n",
       "    <tr>\n",
       "      <th>3</th>\n",
       "      <td>33</td>\n",
       "      <td>22.70</td>\n",
       "      <td>0</td>\n",
       "      <td>0</td>\n",
       "      <td>northwest</td>\n",
       "      <td>21984.47</td>\n",
       "      <td>0</td>\n",
       "      <td>1</td>\n",
       "      <td>0</td>\n",
       "      <td>0</td>\n",
       "    </tr>\n",
       "    <tr>\n",
       "      <th>4</th>\n",
       "      <td>32</td>\n",
       "      <td>28.88</td>\n",
       "      <td>0</td>\n",
       "      <td>0</td>\n",
       "      <td>northwest</td>\n",
       "      <td>3866.86</td>\n",
       "      <td>0</td>\n",
       "      <td>1</td>\n",
       "      <td>0</td>\n",
       "      <td>0</td>\n",
       "    </tr>\n",
       "  </tbody>\n",
       "</table>\n",
       "</div>"
      ],
      "text/plain": [
       "   age   bmi  children  smoker     region  charges  famale  northwest  \\\n",
       "0   19 27.90         0       1  southwest 16884.92       1          0   \n",
       "1   18 33.77         1       0  southeast  1725.55       0          0   \n",
       "2   28 33.00         3       0  southeast  4449.46       0          0   \n",
       "3   33 22.70         0       0  northwest 21984.47       0          1   \n",
       "4   32 28.88         0       0  northwest  3866.86       0          1   \n",
       "\n",
       "   southeast  southwest  \n",
       "0          0          1  \n",
       "1          1          0  \n",
       "2          1          0  \n",
       "3          0          0  \n",
       "4          0          0  "
      ]
     },
     "execution_count": 15,
     "metadata": {},
     "output_type": "execute_result"
    }
   ],
   "source": [
    "# pd.concat: concatena pandas dataframes. Axis=1 (junta colunas ), axis=0 (junta linhas)\n",
    "\n",
    "pd.concat([df_seguro, colunas_regiao], axis=1).head()\n",
    "\n"
   ]
  },
  {
   "cell_type": "code",
   "execution_count": 16,
   "id": "3a4ed467",
   "metadata": {},
   "outputs": [
    {
     "data": {
      "text/html": [
       "<div>\n",
       "<style scoped>\n",
       "    .dataframe tbody tr th:only-of-type {\n",
       "        vertical-align: middle;\n",
       "    }\n",
       "\n",
       "    .dataframe tbody tr th {\n",
       "        vertical-align: top;\n",
       "    }\n",
       "\n",
       "    .dataframe thead th {\n",
       "        text-align: right;\n",
       "    }\n",
       "</style>\n",
       "<table border=\"1\" class=\"dataframe\">\n",
       "  <thead>\n",
       "    <tr style=\"text-align: right;\">\n",
       "      <th></th>\n",
       "      <th>age</th>\n",
       "      <th>bmi</th>\n",
       "      <th>children</th>\n",
       "      <th>smoker</th>\n",
       "      <th>charges</th>\n",
       "      <th>famale</th>\n",
       "      <th>northwest</th>\n",
       "      <th>southeast</th>\n",
       "      <th>southwest</th>\n",
       "    </tr>\n",
       "  </thead>\n",
       "  <tbody>\n",
       "    <tr>\n",
       "      <th>0</th>\n",
       "      <td>19</td>\n",
       "      <td>27.90</td>\n",
       "      <td>0</td>\n",
       "      <td>1</td>\n",
       "      <td>16884.92</td>\n",
       "      <td>1</td>\n",
       "      <td>0</td>\n",
       "      <td>0</td>\n",
       "      <td>1</td>\n",
       "    </tr>\n",
       "    <tr>\n",
       "      <th>1</th>\n",
       "      <td>18</td>\n",
       "      <td>33.77</td>\n",
       "      <td>1</td>\n",
       "      <td>0</td>\n",
       "      <td>1725.55</td>\n",
       "      <td>0</td>\n",
       "      <td>0</td>\n",
       "      <td>1</td>\n",
       "      <td>0</td>\n",
       "    </tr>\n",
       "    <tr>\n",
       "      <th>2</th>\n",
       "      <td>28</td>\n",
       "      <td>33.00</td>\n",
       "      <td>3</td>\n",
       "      <td>0</td>\n",
       "      <td>4449.46</td>\n",
       "      <td>0</td>\n",
       "      <td>0</td>\n",
       "      <td>1</td>\n",
       "      <td>0</td>\n",
       "    </tr>\n",
       "    <tr>\n",
       "      <th>3</th>\n",
       "      <td>33</td>\n",
       "      <td>22.70</td>\n",
       "      <td>0</td>\n",
       "      <td>0</td>\n",
       "      <td>21984.47</td>\n",
       "      <td>0</td>\n",
       "      <td>1</td>\n",
       "      <td>0</td>\n",
       "      <td>0</td>\n",
       "    </tr>\n",
       "    <tr>\n",
       "      <th>4</th>\n",
       "      <td>32</td>\n",
       "      <td>28.88</td>\n",
       "      <td>0</td>\n",
       "      <td>0</td>\n",
       "      <td>3866.86</td>\n",
       "      <td>0</td>\n",
       "      <td>1</td>\n",
       "      <td>0</td>\n",
       "      <td>0</td>\n",
       "    </tr>\n",
       "  </tbody>\n",
       "</table>\n",
       "</div>"
      ],
      "text/plain": [
       "   age   bmi  children  smoker  charges  famale  northwest  southeast  \\\n",
       "0   19 27.90         0       1 16884.92       1          0          0   \n",
       "1   18 33.77         1       0  1725.55       0          0          1   \n",
       "2   28 33.00         3       0  4449.46       0          0          1   \n",
       "3   33 22.70         0       0 21984.47       0          1          0   \n",
       "4   32 28.88         0       0  3866.86       0          1          0   \n",
       "\n",
       "   southwest  \n",
       "0          1  \n",
       "1          0  \n",
       "2          0  \n",
       "3          0  \n",
       "4          0  "
      ]
     },
     "execution_count": 16,
     "metadata": {},
     "output_type": "execute_result"
    }
   ],
   "source": [
    "# Salvando a contenação no df e apagando a coluna região\n",
    "\n",
    "df_seguro = pd.concat([df_seguro, colunas_regiao], axis=1)\n",
    "\n",
    "df_seguro = df_seguro.drop('region', axis=1)\n",
    "\n",
    "df_seguro.head()"
   ]
  },
  {
   "cell_type": "code",
   "execution_count": 17,
   "id": "d1c6c37f",
   "metadata": {},
   "outputs": [
    {
     "data": {
      "text/html": [
       "<div>\n",
       "<style scoped>\n",
       "    .dataframe tbody tr th:only-of-type {\n",
       "        vertical-align: middle;\n",
       "    }\n",
       "\n",
       "    .dataframe tbody tr th {\n",
       "        vertical-align: top;\n",
       "    }\n",
       "\n",
       "    .dataframe thead th {\n",
       "        text-align: right;\n",
       "    }\n",
       "</style>\n",
       "<table border=\"1\" class=\"dataframe\">\n",
       "  <thead>\n",
       "    <tr style=\"text-align: right;\">\n",
       "      <th></th>\n",
       "      <th>age</th>\n",
       "      <th>bmi</th>\n",
       "      <th>children</th>\n",
       "      <th>smoker</th>\n",
       "      <th>charges</th>\n",
       "      <th>famale</th>\n",
       "      <th>northwest</th>\n",
       "      <th>southeast</th>\n",
       "      <th>southwest</th>\n",
       "    </tr>\n",
       "  </thead>\n",
       "  <tbody>\n",
       "    <tr>\n",
       "      <th>0</th>\n",
       "      <td>19</td>\n",
       "      <td>27.90</td>\n",
       "      <td>0</td>\n",
       "      <td>1</td>\n",
       "      <td>16884.92</td>\n",
       "      <td>1</td>\n",
       "      <td>0</td>\n",
       "      <td>0</td>\n",
       "      <td>1</td>\n",
       "    </tr>\n",
       "    <tr>\n",
       "      <th>1</th>\n",
       "      <td>18</td>\n",
       "      <td>33.77</td>\n",
       "      <td>1</td>\n",
       "      <td>0</td>\n",
       "      <td>1725.55</td>\n",
       "      <td>0</td>\n",
       "      <td>0</td>\n",
       "      <td>1</td>\n",
       "      <td>0</td>\n",
       "    </tr>\n",
       "    <tr>\n",
       "      <th>2</th>\n",
       "      <td>28</td>\n",
       "      <td>33.00</td>\n",
       "      <td>3</td>\n",
       "      <td>0</td>\n",
       "      <td>4449.46</td>\n",
       "      <td>0</td>\n",
       "      <td>0</td>\n",
       "      <td>1</td>\n",
       "      <td>0</td>\n",
       "    </tr>\n",
       "    <tr>\n",
       "      <th>3</th>\n",
       "      <td>33</td>\n",
       "      <td>22.70</td>\n",
       "      <td>0</td>\n",
       "      <td>0</td>\n",
       "      <td>21984.47</td>\n",
       "      <td>0</td>\n",
       "      <td>1</td>\n",
       "      <td>0</td>\n",
       "      <td>0</td>\n",
       "    </tr>\n",
       "    <tr>\n",
       "      <th>4</th>\n",
       "      <td>32</td>\n",
       "      <td>28.88</td>\n",
       "      <td>0</td>\n",
       "      <td>0</td>\n",
       "      <td>3866.86</td>\n",
       "      <td>0</td>\n",
       "      <td>1</td>\n",
       "      <td>0</td>\n",
       "      <td>0</td>\n",
       "    </tr>\n",
       "  </tbody>\n",
       "</table>\n",
       "</div>"
      ],
      "text/plain": [
       "   age   bmi  children  smoker  charges  famale  northwest  southeast  \\\n",
       "0   19 27.90         0       1 16884.92       1          0          0   \n",
       "1   18 33.77         1       0  1725.55       0          0          1   \n",
       "2   28 33.00         3       0  4449.46       0          0          1   \n",
       "3   33 22.70         0       0 21984.47       0          1          0   \n",
       "4   32 28.88         0       0  3866.86       0          1          0   \n",
       "\n",
       "   southwest  \n",
       "0          1  \n",
       "1          0  \n",
       "2          0  \n",
       "3          0  \n",
       "4          0  "
      ]
     },
     "execution_count": 17,
     "metadata": {},
     "output_type": "execute_result"
    }
   ],
   "source": [
    "df_seguro.head()"
   ]
  },
  {
   "cell_type": "markdown",
   "id": "bff44689",
   "metadata": {},
   "source": [
    "## Determinando quem são variáveis preditoras e variável target "
   ]
  },
  {
   "cell_type": "code",
   "execution_count": 18,
   "id": "0dde4042",
   "metadata": {},
   "outputs": [],
   "source": [
    "# Tirando a variável dependente. Geralmente é indentificado com 'X'\n",
    "\n",
    "X = df_seguro.drop('charges', axis=1)\n",
    "\n",
    "#Extraindo a variável dependente. Que vamos identificar como y \n",
    "\n",
    "y = df_seguro[['charges']]"
   ]
  },
  {
   "cell_type": "code",
   "execution_count": 19,
   "id": "ccc44bd6",
   "metadata": {},
   "outputs": [
    {
     "data": {
      "text/html": [
       "<div>\n",
       "<style scoped>\n",
       "    .dataframe tbody tr th:only-of-type {\n",
       "        vertical-align: middle;\n",
       "    }\n",
       "\n",
       "    .dataframe tbody tr th {\n",
       "        vertical-align: top;\n",
       "    }\n",
       "\n",
       "    .dataframe thead th {\n",
       "        text-align: right;\n",
       "    }\n",
       "</style>\n",
       "<table border=\"1\" class=\"dataframe\">\n",
       "  <thead>\n",
       "    <tr style=\"text-align: right;\">\n",
       "      <th></th>\n",
       "      <th>age</th>\n",
       "      <th>bmi</th>\n",
       "      <th>children</th>\n",
       "      <th>smoker</th>\n",
       "      <th>famale</th>\n",
       "      <th>northwest</th>\n",
       "      <th>southeast</th>\n",
       "      <th>southwest</th>\n",
       "    </tr>\n",
       "  </thead>\n",
       "  <tbody>\n",
       "    <tr>\n",
       "      <th>0</th>\n",
       "      <td>19</td>\n",
       "      <td>27.90</td>\n",
       "      <td>0</td>\n",
       "      <td>1</td>\n",
       "      <td>1</td>\n",
       "      <td>0</td>\n",
       "      <td>0</td>\n",
       "      <td>1</td>\n",
       "    </tr>\n",
       "    <tr>\n",
       "      <th>1</th>\n",
       "      <td>18</td>\n",
       "      <td>33.77</td>\n",
       "      <td>1</td>\n",
       "      <td>0</td>\n",
       "      <td>0</td>\n",
       "      <td>0</td>\n",
       "      <td>1</td>\n",
       "      <td>0</td>\n",
       "    </tr>\n",
       "    <tr>\n",
       "      <th>2</th>\n",
       "      <td>28</td>\n",
       "      <td>33.00</td>\n",
       "      <td>3</td>\n",
       "      <td>0</td>\n",
       "      <td>0</td>\n",
       "      <td>0</td>\n",
       "      <td>1</td>\n",
       "      <td>0</td>\n",
       "    </tr>\n",
       "    <tr>\n",
       "      <th>3</th>\n",
       "      <td>33</td>\n",
       "      <td>22.70</td>\n",
       "      <td>0</td>\n",
       "      <td>0</td>\n",
       "      <td>0</td>\n",
       "      <td>1</td>\n",
       "      <td>0</td>\n",
       "      <td>0</td>\n",
       "    </tr>\n",
       "    <tr>\n",
       "      <th>4</th>\n",
       "      <td>32</td>\n",
       "      <td>28.88</td>\n",
       "      <td>0</td>\n",
       "      <td>0</td>\n",
       "      <td>0</td>\n",
       "      <td>1</td>\n",
       "      <td>0</td>\n",
       "      <td>0</td>\n",
       "    </tr>\n",
       "  </tbody>\n",
       "</table>\n",
       "</div>"
      ],
      "text/plain": [
       "   age   bmi  children  smoker  famale  northwest  southeast  southwest\n",
       "0   19 27.90         0       1       1          0          0          1\n",
       "1   18 33.77         1       0       0          0          1          0\n",
       "2   28 33.00         3       0       0          0          1          0\n",
       "3   33 22.70         0       0       0          1          0          0\n",
       "4   32 28.88         0       0       0          1          0          0"
      ]
     },
     "execution_count": 19,
     "metadata": {},
     "output_type": "execute_result"
    }
   ],
   "source": [
    "# Identificando as variáveis preditoras\n",
    "\n",
    "X.head()"
   ]
  },
  {
   "cell_type": "code",
   "execution_count": 20,
   "id": "40dcc00a",
   "metadata": {},
   "outputs": [
    {
     "data": {
      "text/html": [
       "<div>\n",
       "<style scoped>\n",
       "    .dataframe tbody tr th:only-of-type {\n",
       "        vertical-align: middle;\n",
       "    }\n",
       "\n",
       "    .dataframe tbody tr th {\n",
       "        vertical-align: top;\n",
       "    }\n",
       "\n",
       "    .dataframe thead th {\n",
       "        text-align: right;\n",
       "    }\n",
       "</style>\n",
       "<table border=\"1\" class=\"dataframe\">\n",
       "  <thead>\n",
       "    <tr style=\"text-align: right;\">\n",
       "      <th></th>\n",
       "      <th>charges</th>\n",
       "    </tr>\n",
       "  </thead>\n",
       "  <tbody>\n",
       "    <tr>\n",
       "      <th>0</th>\n",
       "      <td>16884.92</td>\n",
       "    </tr>\n",
       "    <tr>\n",
       "      <th>1</th>\n",
       "      <td>1725.55</td>\n",
       "    </tr>\n",
       "    <tr>\n",
       "      <th>2</th>\n",
       "      <td>4449.46</td>\n",
       "    </tr>\n",
       "    <tr>\n",
       "      <th>3</th>\n",
       "      <td>21984.47</td>\n",
       "    </tr>\n",
       "    <tr>\n",
       "      <th>4</th>\n",
       "      <td>3866.86</td>\n",
       "    </tr>\n",
       "  </tbody>\n",
       "</table>\n",
       "</div>"
      ],
      "text/plain": [
       "   charges\n",
       "0 16884.92\n",
       "1  1725.55\n",
       "2  4449.46\n",
       "3 21984.47\n",
       "4  3866.86"
      ]
     },
     "execution_count": 20,
     "metadata": {},
     "output_type": "execute_result"
    }
   ],
   "source": [
    "# Identificando a variável dependente ou target\n",
    "\n",
    "y.head()"
   ]
  },
  {
   "cell_type": "markdown",
   "id": "b2394fcc",
   "metadata": {},
   "source": [
    "### Separação de bases \n",
    "\n",
    "Vamos usar cross validation "
   ]
  },
  {
   "cell_type": "code",
   "execution_count": 21,
   "id": "c027a41e",
   "metadata": {},
   "outputs": [],
   "source": [
    "# Função que separa nossa base de treino e teste\n",
    "\n",
    "from sklearn.model_selection import train_test_split"
   ]
  },
  {
   "cell_type": "code",
   "execution_count": 22,
   "id": "c5212ea8",
   "metadata": {},
   "outputs": [],
   "source": [
    "# Devolve uma Tupla com 4 elementos: X de treino, X de teste, y de treino e y de teste \n",
    "# Passo minhas variáveis preditoras (X) e a variável target (y) \n",
    "# Em 'test_size' coloco que a base de teste de que ter 20% \n",
    "#'random_state' Controla o embaralhamento aplicado aos dados antes de aplicar a divisão. Passando um int \n",
    "#               para saída reproduzível em várias chamadas de função (Mantem a mesma reprodutibilidade)\n",
    "\n",
    "X_treino, X_teste, y_treino, y_teste = train_test_split(X, y, test_size=.2, random_state=42)"
   ]
  },
  {
   "cell_type": "code",
   "execution_count": 23,
   "id": "70354f08",
   "metadata": {},
   "outputs": [
    {
     "data": {
      "text/plain": [
       "((1070, 8), (268, 8), (1070, 1), (268, 1))"
      ]
     },
     "execution_count": 23,
     "metadata": {},
     "output_type": "execute_result"
    }
   ],
   "source": [
    "# Vamos ver com quantas linhas ficamos no trino e no teste \n",
    "\n",
    "X_treino.shape, X_teste.shape, y_treino.shape, y_teste.shape"
   ]
  },
  {
   "cell_type": "markdown",
   "id": "1f8ed92d",
   "metadata": {},
   "source": [
    "## Feature scaling\n",
    "\n",
    "#### IMPORTANTE: que as transformações devam ser realizadas DEPOIS do split (separação).\n",
    "\n",
    "Como usaremos pelo menos um modelo linear, é importante realizar scaling das features para mantê-las numa mesma escala de grandeza. Vamos de MinMaxScaler"
   ]
  },
  {
   "cell_type": "code",
   "execution_count": 24,
   "id": "0cfa323d",
   "metadata": {},
   "outputs": [
    {
     "data": {
      "text/html": [
       "<div>\n",
       "<style scoped>\n",
       "    .dataframe tbody tr th:only-of-type {\n",
       "        vertical-align: middle;\n",
       "    }\n",
       "\n",
       "    .dataframe tbody tr th {\n",
       "        vertical-align: top;\n",
       "    }\n",
       "\n",
       "    .dataframe thead th {\n",
       "        text-align: right;\n",
       "    }\n",
       "</style>\n",
       "<table border=\"1\" class=\"dataframe\">\n",
       "  <thead>\n",
       "    <tr style=\"text-align: right;\">\n",
       "      <th></th>\n",
       "      <th>age</th>\n",
       "      <th>bmi</th>\n",
       "      <th>children</th>\n",
       "      <th>smoker</th>\n",
       "      <th>charges</th>\n",
       "      <th>famale</th>\n",
       "      <th>northwest</th>\n",
       "      <th>southeast</th>\n",
       "      <th>southwest</th>\n",
       "    </tr>\n",
       "  </thead>\n",
       "  <tbody>\n",
       "    <tr>\n",
       "      <th>count</th>\n",
       "      <td>1338.00</td>\n",
       "      <td>1338.00</td>\n",
       "      <td>1338.00</td>\n",
       "      <td>1338.00</td>\n",
       "      <td>1338.00</td>\n",
       "      <td>1338.00</td>\n",
       "      <td>1338.00</td>\n",
       "      <td>1338.00</td>\n",
       "      <td>1338.00</td>\n",
       "    </tr>\n",
       "    <tr>\n",
       "      <th>mean</th>\n",
       "      <td>39.21</td>\n",
       "      <td>30.66</td>\n",
       "      <td>1.09</td>\n",
       "      <td>0.20</td>\n",
       "      <td>13270.42</td>\n",
       "      <td>0.49</td>\n",
       "      <td>0.24</td>\n",
       "      <td>0.27</td>\n",
       "      <td>0.24</td>\n",
       "    </tr>\n",
       "    <tr>\n",
       "      <th>std</th>\n",
       "      <td>14.05</td>\n",
       "      <td>6.10</td>\n",
       "      <td>1.21</td>\n",
       "      <td>0.40</td>\n",
       "      <td>12110.01</td>\n",
       "      <td>0.50</td>\n",
       "      <td>0.43</td>\n",
       "      <td>0.45</td>\n",
       "      <td>0.43</td>\n",
       "    </tr>\n",
       "    <tr>\n",
       "      <th>min</th>\n",
       "      <td>18.00</td>\n",
       "      <td>15.96</td>\n",
       "      <td>0.00</td>\n",
       "      <td>0.00</td>\n",
       "      <td>1121.87</td>\n",
       "      <td>0.00</td>\n",
       "      <td>0.00</td>\n",
       "      <td>0.00</td>\n",
       "      <td>0.00</td>\n",
       "    </tr>\n",
       "    <tr>\n",
       "      <th>25%</th>\n",
       "      <td>27.00</td>\n",
       "      <td>26.30</td>\n",
       "      <td>0.00</td>\n",
       "      <td>0.00</td>\n",
       "      <td>4740.29</td>\n",
       "      <td>0.00</td>\n",
       "      <td>0.00</td>\n",
       "      <td>0.00</td>\n",
       "      <td>0.00</td>\n",
       "    </tr>\n",
       "    <tr>\n",
       "      <th>50%</th>\n",
       "      <td>39.00</td>\n",
       "      <td>30.40</td>\n",
       "      <td>1.00</td>\n",
       "      <td>0.00</td>\n",
       "      <td>9382.03</td>\n",
       "      <td>0.00</td>\n",
       "      <td>0.00</td>\n",
       "      <td>0.00</td>\n",
       "      <td>0.00</td>\n",
       "    </tr>\n",
       "    <tr>\n",
       "      <th>75%</th>\n",
       "      <td>51.00</td>\n",
       "      <td>34.69</td>\n",
       "      <td>2.00</td>\n",
       "      <td>0.00</td>\n",
       "      <td>16639.91</td>\n",
       "      <td>1.00</td>\n",
       "      <td>0.00</td>\n",
       "      <td>1.00</td>\n",
       "      <td>0.00</td>\n",
       "    </tr>\n",
       "    <tr>\n",
       "      <th>max</th>\n",
       "      <td>64.00</td>\n",
       "      <td>53.13</td>\n",
       "      <td>5.00</td>\n",
       "      <td>1.00</td>\n",
       "      <td>63770.43</td>\n",
       "      <td>1.00</td>\n",
       "      <td>1.00</td>\n",
       "      <td>1.00</td>\n",
       "      <td>1.00</td>\n",
       "    </tr>\n",
       "  </tbody>\n",
       "</table>\n",
       "</div>"
      ],
      "text/plain": [
       "          age     bmi  children  smoker  charges  famale  northwest  \\\n",
       "count 1338.00 1338.00   1338.00 1338.00  1338.00 1338.00    1338.00   \n",
       "mean    39.21   30.66      1.09    0.20 13270.42    0.49       0.24   \n",
       "std     14.05    6.10      1.21    0.40 12110.01    0.50       0.43   \n",
       "min     18.00   15.96      0.00    0.00  1121.87    0.00       0.00   \n",
       "25%     27.00   26.30      0.00    0.00  4740.29    0.00       0.00   \n",
       "50%     39.00   30.40      1.00    0.00  9382.03    0.00       0.00   \n",
       "75%     51.00   34.69      2.00    0.00 16639.91    1.00       0.00   \n",
       "max     64.00   53.13      5.00    1.00 63770.43    1.00       1.00   \n",
       "\n",
       "       southeast  southwest  \n",
       "count    1338.00    1338.00  \n",
       "mean        0.27       0.24  \n",
       "std         0.45       0.43  \n",
       "min         0.00       0.00  \n",
       "25%         0.00       0.00  \n",
       "50%         0.00       0.00  \n",
       "75%         1.00       0.00  \n",
       "max         1.00       1.00  "
      ]
     },
     "execution_count": 24,
     "metadata": {},
     "output_type": "execute_result"
    }
   ],
   "source": [
    "# Dados antes da Normalização \n",
    "\n",
    "df_seguro.describe()"
   ]
  },
  {
   "cell_type": "code",
   "execution_count": 25,
   "id": "d704ad43",
   "metadata": {},
   "outputs": [],
   "source": [
    "# Vou importar a função MinMaxScaler para fazer a Normalização \n",
    "# Se quisse fazer Padronização usaria StandardScaler \n",
    "\n",
    "from sklearn.preprocessing import MinMaxScaler"
   ]
  },
  {
   "cell_type": "code",
   "execution_count": 26,
   "id": "6ed66a66",
   "metadata": {},
   "outputs": [],
   "source": [
    "# Criando scaler \n",
    "\n",
    "scaler = MinMaxScaler()"
   ]
  },
  {
   "cell_type": "code",
   "execution_count": 27,
   "id": "0518e5f2",
   "metadata": {},
   "outputs": [
    {
     "data": {
      "text/plain": [
       "((1070, 8), (268, 8))"
      ]
     },
     "execution_count": 27,
     "metadata": {},
     "output_type": "execute_result"
    }
   ],
   "source": [
    "#Parte importante: Fit treino (pega o menor e maior valor no treino) e Transforma. Transforma também o teste \n",
    "# Não transformamos todos, pois seria uma forma de conhecer os dados do teste  \n",
    "\n",
    "colunas = X_treino.columns\n",
    "\n",
    "X_treino[colunas] = scaler.fit_transform(X_treino)\n",
    "\n",
    "X_teste[colunas] = scaler.transform(X_teste)\n",
    "\n",
    "X_treino.shape, X_teste.shape"
   ]
  },
  {
   "cell_type": "code",
   "execution_count": 28,
   "id": "d423dd61",
   "metadata": {},
   "outputs": [
    {
     "data": {
      "text/html": [
       "<div>\n",
       "<style scoped>\n",
       "    .dataframe tbody tr th:only-of-type {\n",
       "        vertical-align: middle;\n",
       "    }\n",
       "\n",
       "    .dataframe tbody tr th {\n",
       "        vertical-align: top;\n",
       "    }\n",
       "\n",
       "    .dataframe thead th {\n",
       "        text-align: right;\n",
       "    }\n",
       "</style>\n",
       "<table border=\"1\" class=\"dataframe\">\n",
       "  <thead>\n",
       "    <tr style=\"text-align: right;\">\n",
       "      <th></th>\n",
       "      <th>age</th>\n",
       "      <th>bmi</th>\n",
       "      <th>children</th>\n",
       "      <th>smoker</th>\n",
       "      <th>famale</th>\n",
       "      <th>northwest</th>\n",
       "      <th>southeast</th>\n",
       "      <th>southwest</th>\n",
       "    </tr>\n",
       "  </thead>\n",
       "  <tbody>\n",
       "    <tr>\n",
       "      <th>count</th>\n",
       "      <td>1070.00</td>\n",
       "      <td>1070.00</td>\n",
       "      <td>1070.00</td>\n",
       "      <td>1070.00</td>\n",
       "      <td>1070.00</td>\n",
       "      <td>1070.00</td>\n",
       "      <td>1070.00</td>\n",
       "      <td>1070.00</td>\n",
       "    </tr>\n",
       "    <tr>\n",
       "      <th>mean</th>\n",
       "      <td>0.46</td>\n",
       "      <td>0.39</td>\n",
       "      <td>0.22</td>\n",
       "      <td>0.21</td>\n",
       "      <td>0.49</td>\n",
       "      <td>0.24</td>\n",
       "      <td>0.26</td>\n",
       "      <td>0.25</td>\n",
       "    </tr>\n",
       "    <tr>\n",
       "      <th>std</th>\n",
       "      <td>0.31</td>\n",
       "      <td>0.16</td>\n",
       "      <td>0.24</td>\n",
       "      <td>0.40</td>\n",
       "      <td>0.50</td>\n",
       "      <td>0.43</td>\n",
       "      <td>0.44</td>\n",
       "      <td>0.43</td>\n",
       "    </tr>\n",
       "    <tr>\n",
       "      <th>min</th>\n",
       "      <td>0.00</td>\n",
       "      <td>0.00</td>\n",
       "      <td>0.00</td>\n",
       "      <td>0.00</td>\n",
       "      <td>0.00</td>\n",
       "      <td>0.00</td>\n",
       "      <td>0.00</td>\n",
       "      <td>0.00</td>\n",
       "    </tr>\n",
       "    <tr>\n",
       "      <th>25%</th>\n",
       "      <td>0.20</td>\n",
       "      <td>0.28</td>\n",
       "      <td>0.00</td>\n",
       "      <td>0.00</td>\n",
       "      <td>0.00</td>\n",
       "      <td>0.00</td>\n",
       "      <td>0.00</td>\n",
       "      <td>0.00</td>\n",
       "    </tr>\n",
       "    <tr>\n",
       "      <th>50%</th>\n",
       "      <td>0.47</td>\n",
       "      <td>0.38</td>\n",
       "      <td>0.20</td>\n",
       "      <td>0.00</td>\n",
       "      <td>0.00</td>\n",
       "      <td>0.00</td>\n",
       "      <td>0.00</td>\n",
       "      <td>0.00</td>\n",
       "    </tr>\n",
       "    <tr>\n",
       "      <th>75%</th>\n",
       "      <td>0.72</td>\n",
       "      <td>0.50</td>\n",
       "      <td>0.40</td>\n",
       "      <td>0.00</td>\n",
       "      <td>1.00</td>\n",
       "      <td>0.00</td>\n",
       "      <td>1.00</td>\n",
       "      <td>0.00</td>\n",
       "    </tr>\n",
       "    <tr>\n",
       "      <th>max</th>\n",
       "      <td>1.00</td>\n",
       "      <td>1.00</td>\n",
       "      <td>1.00</td>\n",
       "      <td>1.00</td>\n",
       "      <td>1.00</td>\n",
       "      <td>1.00</td>\n",
       "      <td>1.00</td>\n",
       "      <td>1.00</td>\n",
       "    </tr>\n",
       "  </tbody>\n",
       "</table>\n",
       "</div>"
      ],
      "text/plain": [
       "          age     bmi  children  smoker  famale  northwest  southeast  \\\n",
       "count 1070.00 1070.00   1070.00 1070.00 1070.00    1070.00    1070.00   \n",
       "mean     0.46    0.39      0.22    0.21    0.49       0.24       0.26   \n",
       "std      0.31    0.16      0.24    0.40    0.50       0.43       0.44   \n",
       "min      0.00    0.00      0.00    0.00    0.00       0.00       0.00   \n",
       "25%      0.20    0.28      0.00    0.00    0.00       0.00       0.00   \n",
       "50%      0.47    0.38      0.20    0.00    0.00       0.00       0.00   \n",
       "75%      0.72    0.50      0.40    0.00    1.00       0.00       1.00   \n",
       "max      1.00    1.00      1.00    1.00    1.00       1.00       1.00   \n",
       "\n",
       "       southwest  \n",
       "count    1070.00  \n",
       "mean        0.25  \n",
       "std         0.43  \n",
       "min         0.00  \n",
       "25%         0.00  \n",
       "50%         0.00  \n",
       "75%         0.00  \n",
       "max         1.00  "
      ]
     },
     "execution_count": 28,
     "metadata": {},
     "output_type": "execute_result"
    }
   ],
   "source": [
    "#Dados depois da Normalização \n",
    "\n",
    "X_treino.describe()"
   ]
  },
  {
   "cell_type": "code",
   "execution_count": 29,
   "id": "e435488f",
   "metadata": {},
   "outputs": [
    {
     "data": {
      "text/html": [
       "<div>\n",
       "<style scoped>\n",
       "    .dataframe tbody tr th:only-of-type {\n",
       "        vertical-align: middle;\n",
       "    }\n",
       "\n",
       "    .dataframe tbody tr th {\n",
       "        vertical-align: top;\n",
       "    }\n",
       "\n",
       "    .dataframe thead th {\n",
       "        text-align: right;\n",
       "    }\n",
       "</style>\n",
       "<table border=\"1\" class=\"dataframe\">\n",
       "  <thead>\n",
       "    <tr style=\"text-align: right;\">\n",
       "      <th></th>\n",
       "      <th>age</th>\n",
       "      <th>bmi</th>\n",
       "      <th>children</th>\n",
       "      <th>smoker</th>\n",
       "      <th>famale</th>\n",
       "      <th>northwest</th>\n",
       "      <th>southeast</th>\n",
       "      <th>southwest</th>\n",
       "    </tr>\n",
       "  </thead>\n",
       "  <tbody>\n",
       "    <tr>\n",
       "      <th>count</th>\n",
       "      <td>268.00</td>\n",
       "      <td>268.00</td>\n",
       "      <td>268.00</td>\n",
       "      <td>268.00</td>\n",
       "      <td>268.00</td>\n",
       "      <td>268.00</td>\n",
       "      <td>268.00</td>\n",
       "      <td>268.00</td>\n",
       "    </tr>\n",
       "    <tr>\n",
       "      <th>mean</th>\n",
       "      <td>0.45</td>\n",
       "      <td>0.41</td>\n",
       "      <td>0.21</td>\n",
       "      <td>0.20</td>\n",
       "      <td>0.52</td>\n",
       "      <td>0.26</td>\n",
       "      <td>0.30</td>\n",
       "      <td>0.23</td>\n",
       "    </tr>\n",
       "    <tr>\n",
       "      <th>std</th>\n",
       "      <td>0.30</td>\n",
       "      <td>0.17</td>\n",
       "      <td>0.23</td>\n",
       "      <td>0.40</td>\n",
       "      <td>0.50</td>\n",
       "      <td>0.44</td>\n",
       "      <td>0.46</td>\n",
       "      <td>0.42</td>\n",
       "    </tr>\n",
       "    <tr>\n",
       "      <th>min</th>\n",
       "      <td>0.00</td>\n",
       "      <td>0.02</td>\n",
       "      <td>0.00</td>\n",
       "      <td>0.00</td>\n",
       "      <td>0.00</td>\n",
       "      <td>0.00</td>\n",
       "      <td>0.00</td>\n",
       "      <td>0.00</td>\n",
       "    </tr>\n",
       "    <tr>\n",
       "      <th>25%</th>\n",
       "      <td>0.17</td>\n",
       "      <td>0.29</td>\n",
       "      <td>0.00</td>\n",
       "      <td>0.00</td>\n",
       "      <td>0.00</td>\n",
       "      <td>0.00</td>\n",
       "      <td>0.00</td>\n",
       "      <td>0.00</td>\n",
       "    </tr>\n",
       "    <tr>\n",
       "      <th>50%</th>\n",
       "      <td>0.43</td>\n",
       "      <td>0.40</td>\n",
       "      <td>0.20</td>\n",
       "      <td>0.00</td>\n",
       "      <td>1.00</td>\n",
       "      <td>0.00</td>\n",
       "      <td>0.00</td>\n",
       "      <td>0.00</td>\n",
       "    </tr>\n",
       "    <tr>\n",
       "      <th>75%</th>\n",
       "      <td>0.70</td>\n",
       "      <td>0.52</td>\n",
       "      <td>0.40</td>\n",
       "      <td>0.00</td>\n",
       "      <td>1.00</td>\n",
       "      <td>1.00</td>\n",
       "      <td>1.00</td>\n",
       "      <td>0.00</td>\n",
       "    </tr>\n",
       "    <tr>\n",
       "      <th>max</th>\n",
       "      <td>1.00</td>\n",
       "      <td>0.99</td>\n",
       "      <td>1.00</td>\n",
       "      <td>1.00</td>\n",
       "      <td>1.00</td>\n",
       "      <td>1.00</td>\n",
       "      <td>1.00</td>\n",
       "      <td>1.00</td>\n",
       "    </tr>\n",
       "  </tbody>\n",
       "</table>\n",
       "</div>"
      ],
      "text/plain": [
       "         age    bmi  children  smoker  famale  northwest  southeast  southwest\n",
       "count 268.00 268.00    268.00  268.00  268.00     268.00     268.00     268.00\n",
       "mean    0.45   0.41      0.21    0.20    0.52       0.26       0.30       0.23\n",
       "std     0.30   0.17      0.23    0.40    0.50       0.44       0.46       0.42\n",
       "min     0.00   0.02      0.00    0.00    0.00       0.00       0.00       0.00\n",
       "25%     0.17   0.29      0.00    0.00    0.00       0.00       0.00       0.00\n",
       "50%     0.43   0.40      0.20    0.00    1.00       0.00       0.00       0.00\n",
       "75%     0.70   0.52      0.40    0.00    1.00       1.00       1.00       0.00\n",
       "max     1.00   0.99      1.00    1.00    1.00       1.00       1.00       1.00"
      ]
     },
     "execution_count": 29,
     "metadata": {},
     "output_type": "execute_result"
    }
   ],
   "source": [
    "X_teste.describe()"
   ]
  },
  {
   "cell_type": "markdown",
   "id": "c6fbc634",
   "metadata": {},
   "source": [
    "### Analisando a correlação entre variáveis \n",
    "\n",
    "Quando utilizamos modelos lineares, é importante saber se as variáveis preditoras guardam alguma colinearidade. Caso ocorra, devemos remover uma das variáveis para que o modelo não seja afetado."
   ]
  },
  {
   "cell_type": "code",
   "execution_count": 30,
   "id": "bcafcc1b",
   "metadata": {},
   "outputs": [
    {
     "data": {
      "text/plain": [
       "<AxesSubplot:>"
      ]
     },
     "execution_count": 30,
     "metadata": {},
     "output_type": "execute_result"
    },
    {
     "data": {
      "image/png": "[encoded data removed]",
      "text/plain": [
       "<Figure size 720x576 with 2 Axes>"
      ]
     },
     "metadata": {},
     "output_type": "display_data"
    }
   ],
   "source": [
    "figura, graficos = plt.subplots(figsize=(10, 8))\n",
    "corr = df_seguro.corr()\n",
    "sns.heatmap(corr, mask=np.zeros_like(corr, dtype=bool), square=True, ax=graficos)"
   ]
  },
  {
   "cell_type": "markdown",
   "id": "e8d5009f",
   "metadata": {},
   "source": [
    "### Verificando dados faltantes "
   ]
  },
  {
   "cell_type": "code",
   "execution_count": 31,
   "id": "b84732b2",
   "metadata": {},
   "outputs": [
    {
     "data": {
      "text/plain": [
       "age          0\n",
       "bmi          0\n",
       "children     0\n",
       "smoker       0\n",
       "charges      0\n",
       "famale       0\n",
       "northwest    0\n",
       "southeast    0\n",
       "southwest    0\n",
       "dtype: int64"
      ]
     },
     "execution_count": 31,
     "metadata": {},
     "output_type": "execute_result"
    }
   ],
   "source": [
    "# Isnull busca quem é nulo \n",
    "\n",
    "df_seguro.isnull().sum()"
   ]
  },
  {
   "cell_type": "markdown",
   "id": "ecf070a6",
   "metadata": {},
   "source": [
    "### Machine Learning \n",
    "\n",
    "Primeiro modelo que vamos treinar é a regressão linear. "
   ]
  },
  {
   "cell_type": "code",
   "execution_count": 32,
   "id": "e24d6a18",
   "metadata": {},
   "outputs": [],
   "source": [
    "# Primeiro modelo que vamos treinar é a regressão linear. E vamos utilizar cross validation para evitar overfit \n",
    "#   e ter uma base de comparação para outros modelos\n",
    "\n",
    "from sklearn.linear_model import LinearRegression \n",
    "from sklearn.model_selection import cross_val_score \n"
   ]
  },
  {
   "cell_type": "code",
   "execution_count": 33,
   "id": "df36737d",
   "metadata": {},
   "outputs": [
    {
     "data": {
      "text/plain": [
       "array([-6073.99997254, -6580.87166754, -5233.82683473, -6045.25239632,\n",
       "       -5836.4647871 , -6127.43525895, -7281.08373608, -6321.52706355,\n",
       "       -6193.3145481 , -5637.06299714])"
      ]
     },
     "execution_count": 33,
     "metadata": {},
     "output_type": "execute_result"
    }
   ],
   "source": [
    "# Criando o estimador, algorimo, modelo, preditor, regresso\n",
    "\n",
    "regressao_linear = LinearRegression()\n",
    "\n",
    "#  Aqui vamos fazer o cross validation da base de treinamento 'X=X_treino, y=y_treino';\n",
    "# 'cv=10': Indica que vai separar em 10 parte (10 fold); \n",
    "# 'estimator=regressao_linear': algoritimo de aprendizagem;\n",
    "# 'scoring': vai retornar o rmse (Erro de predição em cada split) \n",
    "\n",
    "valores_rmse_rl = cross_val_score(estimator=regressao_linear,\n",
    "                                  X=X_treino,  \n",
    "                                  y=y_treino, \n",
    "                                  cv=10, \n",
    "                                  scoring='neg_root_mean_squared_error') \n",
    "\n",
    "valores_rmse_rl"
   ]
  },
  {
   "cell_type": "code",
   "execution_count": 34,
   "id": "b78182b2",
   "metadata": {},
   "outputs": [
    {
     "data": {
      "text/plain": [
       "array([6073.99997254, 6580.87166754, 5233.82683473, 6045.25239632,\n",
       "       5836.4647871 , 6127.43525895, 7281.08373608, 6321.52706355,\n",
       "       6193.3145481 , 5637.06299714])"
      ]
     },
     "execution_count": 34,
     "metadata": {},
     "output_type": "execute_result"
    }
   ],
   "source": [
    "# Transformando em positivo \n",
    "\n",
    "valores_rmse_rl = valores_rmse_rl * -1\n",
    "\n",
    "valores_rmse_rl"
   ]
  },
  {
   "cell_type": "code",
   "execution_count": 35,
   "id": "0905798c",
   "metadata": {},
   "outputs": [
    {
     "data": {
      "text/plain": [
       "6133.0839262055"
      ]
     },
     "execution_count": 35,
     "metadata": {},
     "output_type": "execute_result"
    }
   ],
   "source": [
    "#Tirando a média \n",
    "\n",
    "media_rmse_rl = valores_rmse_rl.mean()\n",
    "\n",
    "media_rmse_rl"
   ]
  },
  {
   "cell_type": "markdown",
   "id": "08e72d30",
   "metadata": {},
   "source": [
    "### Árvore de Regressão "
   ]
  },
  {
   "cell_type": "code",
   "execution_count": 36,
   "id": "23d646b6",
   "metadata": {},
   "outputs": [
    {
     "data": {
      "text/plain": [
       "array([-6442.26265838, -7497.11028889, -7083.03688757, -7382.00284059,\n",
       "       -6891.93742811, -6591.4459975 , -7015.90627965, -7044.16307463,\n",
       "       -6262.87852476, -6322.87399756])"
      ]
     },
     "execution_count": 36,
     "metadata": {},
     "output_type": "execute_result"
    }
   ],
   "source": [
    "from sklearn.tree import DecisionTreeRegressor\n",
    "\n",
    "arvore_regressao = DecisionTreeRegressor()\n",
    "\n",
    "valores_rmse_arvore = cross_val_score(estimator=arvore_regressao, \n",
    "                                      X=X_treino, \n",
    "                                      y=y_treino, \n",
    "                                      cv=10, # \n",
    "                                  scoring='neg_root_mean_squared_error')\n",
    "valores_rmse_arvore"
   ]
  },
  {
   "cell_type": "code",
   "execution_count": 37,
   "id": "98dd0bab",
   "metadata": {},
   "outputs": [
    {
     "data": {
      "text/plain": [
       "array([6442.26265838, 7497.11028889, 7083.03688757, 7382.00284059,\n",
       "       6891.93742811, 6591.4459975 , 7015.90627965, 7044.16307463,\n",
       "       6262.87852476, 6322.87399756])"
      ]
     },
     "execution_count": 37,
     "metadata": {},
     "output_type": "execute_result"
    }
   ],
   "source": [
    "valores_rmse_arvore = valores_rmse_arvore * -1\n",
    "\n",
    "valores_rmse_arvore"
   ]
  },
  {
   "cell_type": "code",
   "execution_count": 38,
   "id": "038e6ff4",
   "metadata": {},
   "outputs": [
    {
     "data": {
      "text/plain": [
       "6853.3617977641625"
      ]
     },
     "execution_count": 38,
     "metadata": {},
     "output_type": "execute_result"
    }
   ],
   "source": [
    "media_rmse_arvore = valores_rmse_arvore.mean()\n",
    "\n",
    "media_rmse_arvore"
   ]
  },
  {
   "cell_type": "markdown",
   "id": "65a3d3b0",
   "metadata": {},
   "source": [
    "### Tirando variáveis \n",
    "\n",
    "Na análise de correlação as variáveis das colunas de regiões não apresentaram muita influencia na variável target  \n",
    "\n",
    "Podemos analisar se retiramos elas melhora o resultado "
   ]
  },
  {
   "cell_type": "code",
   "execution_count": 39,
   "id": "9fbe078e",
   "metadata": {},
   "outputs": [
    {
     "data": {
      "text/plain": [
       "6121.545062597132"
      ]
     },
     "execution_count": 39,
     "metadata": {},
     "output_type": "execute_result"
    }
   ],
   "source": [
    "#Fazendo o croos validation com regressão linear sem as regiões \n",
    "\n",
    "colunas_regiao = ['northwest', 'southeast', 'southwest']\n",
    "\n",
    "valores_rmse_rl_sem_regiao = cross_val_score(estimator=regressao_linear,\n",
    "                                  X=X_treino.drop(colunas_regiao, axis=1),  \n",
    "                                  y=y_treino, \n",
    "                                  cv=10, \n",
    "                                  scoring='neg_root_mean_squared_error')\n",
    "\n",
    "valores_rmse_rl_sem_regiao.mean() * -1"
   ]
  },
  {
   "cell_type": "code",
   "execution_count": 40,
   "id": "cb9b0eac",
   "metadata": {},
   "outputs": [
    {
     "data": {
      "text/plain": [
       "array([6047.74861144, 6576.17442833, 5208.18399508, 5969.09583538,\n",
       "       5870.19697933, 6107.50898187, 7295.03885205, 6309.72867769,\n",
       "       6178.86188095, 5652.91238386])"
      ]
     },
     "execution_count": 40,
     "metadata": {},
     "output_type": "execute_result"
    }
   ],
   "source": [
    "# Covertendo todos para positivo \n",
    "\n",
    "valores_rmse_rl_sem_regiao = valores_rmse_rl_sem_regiao * -1\n",
    "\n",
    "valores_rmse_rl_sem_regiao "
   ]
  },
  {
   "cell_type": "code",
   "execution_count": 41,
   "id": "ab414837",
   "metadata": {},
   "outputs": [
    {
     "data": {
      "text/plain": [
       "6894.061351134394"
      ]
     },
     "execution_count": 41,
     "metadata": {},
     "output_type": "execute_result"
    }
   ],
   "source": [
    "#Fazendo o croos validation com árvore de regressão sem as regiões\n",
    "\n",
    "colunas_regiao = ['northwest', 'southeast', 'southwest']\n",
    "\n",
    "valores_rmse_arvore_sem_regiao = cross_val_score(estimator=arvore_regressao,\n",
    "                                  X=X_treino.drop(colunas_regiao, axis=1),  \n",
    "                                  y=y_treino, \n",
    "                                  cv=10, \n",
    "                                  scoring='neg_root_mean_squared_error')\n",
    "\n",
    "valores_rmse_arvore_sem_regiao.mean() * -1"
   ]
  },
  {
   "cell_type": "code",
   "execution_count": 42,
   "id": "8a69311d",
   "metadata": {},
   "outputs": [],
   "source": [
    "valores_rmse_arvore_sem_regiao = valores_rmse_arvore_sem_regiao * -1"
   ]
  },
  {
   "cell_type": "code",
   "execution_count": 43,
   "id": "5485960d",
   "metadata": {},
   "outputs": [
    {
     "data": {
      "text/plain": [
       "Text(0.5, 1.0, 'Comparação de RMSE')"
      ]
     },
     "execution_count": 43,
     "metadata": {},
     "output_type": "execute_result"
    },
    {
     "data": {
      "image/png": "[encoded data removed]",
      "text/plain": [
       "<Figure size 432x288 with 1 Axes>"
      ]
     },
     "metadata": {},
     "output_type": "display_data"
    }
   ],
   "source": [
    "# Comparando os erros dos dois melhores algoritmos (valores_rmse_rl_sem_regiao / valores_rmse_arvore) \n",
    "\n",
    "rmse = pd.DataFrame({'regressao_linear':valores_rmse_rl_sem_regiao, 'arvore_regressao': valores_rmse_arvore})\n",
    "\n",
    "sns.boxplot(data=rmse).set_title('Comparação de RMSE')"
   ]
  },
  {
   "cell_type": "markdown",
   "id": "3d6d32dc",
   "metadata": {},
   "source": [
    "### Melhor Modelo \n",
    "\n",
    "#### O melhor modelo foi Regressão Linear sem as colunas de região\n",
    "\n",
    "Dessa maneira, vamos treinar em toda a base de treinamento "
   ]
  },
  {
   "cell_type": "code",
   "execution_count": 44,
   "id": "c3236d51",
   "metadata": {},
   "outputs": [
    {
     "data": {
      "text/plain": [
       "LinearRegression()"
      ]
     },
     "execution_count": 44,
     "metadata": {},
     "output_type": "execute_result"
    }
   ],
   "source": [
    "# Treinando (fit) o modelo na base de treinamento sem cross validation \n",
    "\n",
    "regressao_linear.fit(X_treino.drop(colunas_regiao, axis=1), y_treino)"
   ]
  },
  {
   "cell_type": "code",
   "execution_count": 45,
   "id": "713b759e",
   "metadata": {},
   "outputs": [
    {
     "data": {
      "text/plain": [
       "array([[1.18251723e+04, 1.21744207e+04, 2.13627215e+03, 2.36539033e+04,\n",
       "        7.95178837e+00]])"
      ]
     },
     "execution_count": 45,
     "metadata": {},
     "output_type": "execute_result"
    }
   ],
   "source": [
    "regressao_linear.coef_"
   ]
  },
  {
   "cell_type": "code",
   "execution_count": 46,
   "id": "1f135c9a",
   "metadata": {},
   "outputs": [
    {
     "data": {
      "text/html": [
       "<div>\n",
       "<style scoped>\n",
       "    .dataframe tbody tr th:only-of-type {\n",
       "        vertical-align: middle;\n",
       "    }\n",
       "\n",
       "    .dataframe tbody tr th {\n",
       "        vertical-align: top;\n",
       "    }\n",
       "\n",
       "    .dataframe thead th {\n",
       "        text-align: right;\n",
       "    }\n",
       "</style>\n",
       "<table border=\"1\" class=\"dataframe\">\n",
       "  <thead>\n",
       "    <tr style=\"text-align: right;\">\n",
       "      <th></th>\n",
       "      <th>age</th>\n",
       "      <th>bmi</th>\n",
       "      <th>children</th>\n",
       "      <th>smoker</th>\n",
       "      <th>famale</th>\n",
       "    </tr>\n",
       "  </thead>\n",
       "  <tbody>\n",
       "    <tr>\n",
       "      <th>0</th>\n",
       "      <td>11825.17</td>\n",
       "      <td>12174.42</td>\n",
       "      <td>2136.27</td>\n",
       "      <td>23653.90</td>\n",
       "      <td>7.95</td>\n",
       "    </tr>\n",
       "  </tbody>\n",
       "</table>\n",
       "</div>"
      ],
      "text/plain": [
       "       age      bmi  children   smoker  famale\n",
       "0 11825.17 12174.42   2136.27 23653.90    7.95"
      ]
     },
     "execution_count": 46,
     "metadata": {},
     "output_type": "execute_result"
    }
   ],
   "source": [
    "# Facilitando a analise colocando em df para verificar qual impacto das variáveis na hora de determinar o preço dos planos \n",
    "\n",
    "df_coeficientes = pd.DataFrame(regressao_linear.coef_)\n",
    "df_coeficientes.columns = regressao_linear.feature_names_in_\n",
    "df_coeficientes"
   ]
  },
  {
   "cell_type": "code",
   "execution_count": 47,
   "id": "0678ef5a",
   "metadata": {},
   "outputs": [
    {
     "data": {
      "text/plain": [
       "age        0.00\n",
       "bmi        0.00\n",
       "children   0.07\n",
       "smoker     0.00\n",
       "famale     0.21\n",
       "Name: P>|t|, dtype: float64"
      ]
     },
     "execution_count": 47,
     "metadata": {},
     "output_type": "execute_result"
    }
   ],
   "source": [
    "# Calculandp o p-valor dos coeficientes de cada regressão verificamos se coeficientes são válidos estatisticamente (menor 0.05) \n",
    "\n",
    "import statsmodels.api as sm\n",
    "\n",
    "rl_statsmodels = sm.OLS(y_treino, X_treino.drop(colunas_regiao, axis=1))\n",
    "resultado_fit = rl_statsmodels.fit()\n",
    "p_valores = resultado_fit.summary2().tables[1]['P>|t|']\n",
    "\n",
    "p_valores\n",
    "\n"
   ]
  },
  {
   "cell_type": "markdown",
   "id": "9a699f4a",
   "metadata": {},
   "source": [
    "Os coeficientes para crianças e sexo não são estatisticamente válidos"
   ]
  },
  {
   "cell_type": "markdown",
   "id": "7904f5b4",
   "metadata": {},
   "source": [
    "### Fazer inferências dos valores do plano de saúde no teste"
   ]
  },
  {
   "cell_type": "code",
   "execution_count": 48,
   "id": "936027b5",
   "metadata": {},
   "outputs": [
    {
     "data": {
      "text/plain": [
       "array([[ 8554.81711589],\n",
       "       [ 6973.58746745],\n",
       "       [36798.60416104],\n",
       "       [ 9417.88282303],\n",
       "       [26871.68031081]])"
      ]
     },
     "execution_count": 48,
     "metadata": {},
     "output_type": "execute_result"
    }
   ],
   "source": [
    "# Estimadores scikit learn\n",
    "# estimador é treinado com fit\n",
    "# estimador prediz com predict\n",
    "\n",
    "precos_preditos = regressao_linear.predict(X_teste.drop(colunas_regiao, axis=1))\n",
    "\n",
    "precos_preditos[:5]"
   ]
  },
  {
   "cell_type": "code",
   "execution_count": 49,
   "id": "0832229f",
   "metadata": {},
   "outputs": [
    {
     "data": {
      "text/html": [
       "<div>\n",
       "<style scoped>\n",
       "    .dataframe tbody tr th:only-of-type {\n",
       "        vertical-align: middle;\n",
       "    }\n",
       "\n",
       "    .dataframe tbody tr th {\n",
       "        vertical-align: top;\n",
       "    }\n",
       "\n",
       "    .dataframe thead th {\n",
       "        text-align: right;\n",
       "    }\n",
       "</style>\n",
       "<table border=\"1\" class=\"dataframe\">\n",
       "  <thead>\n",
       "    <tr style=\"text-align: right;\">\n",
       "      <th></th>\n",
       "      <th>predicao</th>\n",
       "      <th>real</th>\n",
       "      <th>diferenca_abs</th>\n",
       "    </tr>\n",
       "  </thead>\n",
       "  <tbody>\n",
       "    <tr>\n",
       "      <th>0</th>\n",
       "      <td>8554.82</td>\n",
       "      <td>9095.07</td>\n",
       "      <td>540.25</td>\n",
       "    </tr>\n",
       "    <tr>\n",
       "      <th>1</th>\n",
       "      <td>6973.59</td>\n",
       "      <td>5272.18</td>\n",
       "      <td>1701.41</td>\n",
       "    </tr>\n",
       "    <tr>\n",
       "      <th>2</th>\n",
       "      <td>36798.60</td>\n",
       "      <td>29330.98</td>\n",
       "      <td>7467.62</td>\n",
       "    </tr>\n",
       "    <tr>\n",
       "      <th>3</th>\n",
       "      <td>9417.88</td>\n",
       "      <td>9301.89</td>\n",
       "      <td>115.99</td>\n",
       "    </tr>\n",
       "    <tr>\n",
       "      <th>4</th>\n",
       "      <td>26871.68</td>\n",
       "      <td>33750.29</td>\n",
       "      <td>6878.61</td>\n",
       "    </tr>\n",
       "    <tr>\n",
       "      <th>5</th>\n",
       "      <td>11097.38</td>\n",
       "      <td>4536.26</td>\n",
       "      <td>6561.12</td>\n",
       "    </tr>\n",
       "    <tr>\n",
       "      <th>6</th>\n",
       "      <td>145.28</td>\n",
       "      <td>2117.34</td>\n",
       "      <td>1972.06</td>\n",
       "    </tr>\n",
       "    <tr>\n",
       "      <th>7</th>\n",
       "      <td>16746.17</td>\n",
       "      <td>14210.54</td>\n",
       "      <td>2535.63</td>\n",
       "    </tr>\n",
       "    <tr>\n",
       "      <th>8</th>\n",
       "      <td>747.53</td>\n",
       "      <td>3732.63</td>\n",
       "      <td>2985.09</td>\n",
       "    </tr>\n",
       "    <tr>\n",
       "      <th>9</th>\n",
       "      <td>11153.68</td>\n",
       "      <td>10264.44</td>\n",
       "      <td>889.23</td>\n",
       "    </tr>\n",
       "    <tr>\n",
       "      <th>10</th>\n",
       "      <td>28518.15</td>\n",
       "      <td>18259.22</td>\n",
       "      <td>10258.93</td>\n",
       "    </tr>\n",
       "    <tr>\n",
       "      <th>11</th>\n",
       "      <td>9292.18</td>\n",
       "      <td>7256.72</td>\n",
       "      <td>2035.46</td>\n",
       "    </tr>\n",
       "    <tr>\n",
       "      <th>12</th>\n",
       "      <td>5460.52</td>\n",
       "      <td>3947.41</td>\n",
       "      <td>1513.11</td>\n",
       "    </tr>\n",
       "    <tr>\n",
       "      <th>13</th>\n",
       "      <td>38510.48</td>\n",
       "      <td>46151.12</td>\n",
       "      <td>7640.64</td>\n",
       "    </tr>\n",
       "    <tr>\n",
       "      <th>14</th>\n",
       "      <td>40359.31</td>\n",
       "      <td>48673.56</td>\n",
       "      <td>8314.25</td>\n",
       "    </tr>\n",
       "    <tr>\n",
       "      <th>15</th>\n",
       "      <td>37223.41</td>\n",
       "      <td>44202.65</td>\n",
       "      <td>6979.25</td>\n",
       "    </tr>\n",
       "    <tr>\n",
       "      <th>16</th>\n",
       "      <td>15316.57</td>\n",
       "      <td>9800.89</td>\n",
       "      <td>5515.68</td>\n",
       "    </tr>\n",
       "    <tr>\n",
       "      <th>17</th>\n",
       "      <td>36047.50</td>\n",
       "      <td>42969.85</td>\n",
       "      <td>6922.35</td>\n",
       "    </tr>\n",
       "    <tr>\n",
       "      <th>18</th>\n",
       "      <td>9326.29</td>\n",
       "      <td>8233.10</td>\n",
       "      <td>1093.19</td>\n",
       "    </tr>\n",
       "    <tr>\n",
       "      <th>19</th>\n",
       "      <td>31400.16</td>\n",
       "      <td>21774.32</td>\n",
       "      <td>9625.83</td>\n",
       "    </tr>\n",
       "  </tbody>\n",
       "</table>\n",
       "</div>"
      ],
      "text/plain": [
       "    predicao     real  diferenca_abs\n",
       "0    8554.82  9095.07         540.25\n",
       "1    6973.59  5272.18        1701.41\n",
       "2   36798.60 29330.98        7467.62\n",
       "3    9417.88  9301.89         115.99\n",
       "4   26871.68 33750.29        6878.61\n",
       "5   11097.38  4536.26        6561.12\n",
       "6     145.28  2117.34        1972.06\n",
       "7   16746.17 14210.54        2535.63\n",
       "8     747.53  3732.63        2985.09\n",
       "9   11153.68 10264.44         889.23\n",
       "10  28518.15 18259.22       10258.93\n",
       "11   9292.18  7256.72        2035.46\n",
       "12   5460.52  3947.41        1513.11\n",
       "13  38510.48 46151.12        7640.64\n",
       "14  40359.31 48673.56        8314.25\n",
       "15  37223.41 44202.65        6979.25\n",
       "16  15316.57  9800.89        5515.68\n",
       "17  36047.50 42969.85        6922.35\n",
       "18   9326.29  8233.10        1093.19\n",
       "19  31400.16 21774.32        9625.83"
      ]
     },
     "execution_count": 49,
     "metadata": {},
     "output_type": "execute_result"
    }
   ],
   "source": [
    "# Criando o df com os valores preditos, reias e a diferença absoluta entre eles \n",
    "\n",
    "predicoes_vs_real = pd.DataFrame({'predicao': precos_preditos.flatten(), 'real': y_teste.values.flatten()})\n",
    "predicoes_vs_real['diferenca_abs'] = abs(predicoes_vs_real['predicao'] - predicoes_vs_real['real'])\n",
    "\n",
    "predicoes_vs_real.head(20)"
   ]
  },
  {
   "cell_type": "markdown",
   "id": "596c0d76",
   "metadata": {},
   "source": [
    "### R squared "
   ]
  },
  {
   "cell_type": "code",
   "execution_count": 50,
   "id": "8a5006b2",
   "metadata": {},
   "outputs": [
    {
     "data": {
      "text/plain": [
       "0.7811302113434095"
      ]
     },
     "execution_count": 50,
     "metadata": {},
     "output_type": "execute_result"
    }
   ],
   "source": [
    "from sklearn.metrics import r2_score\n",
    "\n",
    "r2_score(y_true=y_teste, y_pred=precos_preditos)"
   ]
  },
  {
   "cell_type": "code",
   "execution_count": null,
   "id": "f8574ddc",
   "metadata": {},
   "outputs": [],
   "source": []
  }
 ],
 "metadata": {
  "kernelspec": {
   "display_name": "Python 3 (ipykernel)",
   "language": "python",
   "name": "python3"
  },
  "language_info": {
   "codemirror_mode": {
    "name": "ipython",
    "version": 3
   },
   "file_extension": ".py",
   "mimetype": "text/x-python",
   "name": "python",
   "nbconvert_exporter": "python",
   "pygments_lexer": "ipython3",
   "version": "3.9.12"
  }
 },
 "nbformat": 4,
 "nbformat_minor": 5
}
